{
 "cells": [
  {
   "cell_type": "markdown",
   "metadata": {},
   "source": [
    "# Test problems \n",
    "## Belozerova Anastasia"
   ]
  },
  {
   "cell_type": "code",
   "execution_count": 1,
   "metadata": {},
   "outputs": [],
   "source": [
    "import os\n",
    "import imageio"
   ]
  },
  {
   "cell_type": "code",
   "execution_count": 2,
   "metadata": {},
   "outputs": [],
   "source": [
    "import numpy as np\n",
    "import torch, torch.nn as nn\n",
    "import torch.nn.functional as F"
   ]
  },
  {
   "cell_type": "code",
   "execution_count": 3,
   "metadata": {},
   "outputs": [],
   "source": [
    "from torch.autograd import Variable\n",
    "from matplotlib import pyplot as plt\n",
    "\n",
    "from sklearn.model_selection import GridSearchCV\n",
    "from sklearn.model_selection import train_test_split\n",
    "from sklearn.linear_model import LogisticRegression\n",
    "from sklearn.metrics import accuracy_score"
   ]
  },
  {
   "cell_type": "code",
   "execution_count": 4,
   "metadata": {},
   "outputs": [],
   "source": [
    "crocks_path = \"./samsung/crocodile/\"\n",
    "clocks_path = \"./samsung/clock/\""
   ]
  },
  {
   "cell_type": "code",
   "execution_count": 5,
   "metadata": {},
   "outputs": [],
   "source": [
    "crocks_pics = [pic for pic in os.listdir(crocks_path) if os.path.isfile(os.path.join(crocks_path, pic))]\n",
    "clocks_pics = [pic for pic in os.listdir(clocks_path) if os.path.isfile(os.path.join(clocks_path, pic))]"
   ]
  },
  {
   "cell_type": "code",
   "execution_count": 6,
   "metadata": {},
   "outputs": [
    {
     "name": "stdout",
     "output_type": "stream",
     "text": [
      "(500, 500)\n"
     ]
    }
   ],
   "source": [
    "print(len(crocks_pics), len(clocks_pics))"
   ]
  },
  {
   "cell_type": "markdown",
   "metadata": {},
   "source": [
    "Data is equal. Lets take a look at our examples"
   ]
  },
  {
   "cell_type": "code",
   "execution_count": 7,
   "metadata": {},
   "outputs": [
    {
     "data": {
      "image/png": "[encoded data removed]",
      "text/plain": [
       "<matplotlib.figure.Figure at 0x7f060122de90>"
      ]
     },
     "metadata": {},
     "output_type": "display_data"
    }
   ],
   "source": [
    "img = imageio.imread(clocks_path + clocks_pics[100])\n",
    "plt.imshow(img.reshape(32, 32, 3))\n",
    "plt.show()"
   ]
  },
  {
   "cell_type": "code",
   "execution_count": 8,
   "metadata": {},
   "outputs": [
    {
     "data": {
      "image/png": "[encoded data removed]",
      "text/plain": [
       "<matplotlib.figure.Figure at 0x7f05ff113210>"
      ]
     },
     "metadata": {},
     "output_type": "display_data"
    }
   ],
   "source": [
    "img = imageio.imread(crocks_path + crocks_pics[100])\n",
    "plt.imshow(img.reshape(32, 32, 3))\n",
    "plt.show()"
   ]
  },
  {
   "cell_type": "markdown",
   "metadata": {},
   "source": [
    "Look rather different"
   ]
  },
  {
   "cell_type": "markdown",
   "metadata": {},
   "source": [
    "Pictures are small, no augmentation is needed here. \n",
    "Lets prepare data for futher use"
   ]
  },
  {
   "cell_type": "code",
   "execution_count": 9,
   "metadata": {},
   "outputs": [],
   "source": [
    "crocks = []\n",
    "clocks = []"
   ]
  },
  {
   "cell_type": "code",
   "execution_count": 10,
   "metadata": {},
   "outputs": [],
   "source": [
    "for pic in crocks_pics:\n",
    "    crocks.append(imageio.imread(crocks_path + pic).reshape(3, 32, 32))\n",
    "    \n",
    "for pic in clocks_pics:\n",
    "    clocks.append(imageio.imread(clocks_path + pic).reshape(3, 32, 32))\n",
    "    \n",
    "crocks = np.array(crocks)\n",
    "clocks = np.array(clocks)"
   ]
  },
  {
   "cell_type": "code",
   "execution_count": 11,
   "metadata": {},
   "outputs": [],
   "source": [
    "X = np.vstack([crocks, clocks])"
   ]
  },
  {
   "cell_type": "markdown",
   "metadata": {},
   "source": [
    "Our task is binary classification. Lets say crocks are zeros and clocks are ones."
   ]
  },
  {
   "cell_type": "code",
   "execution_count": 12,
   "metadata": {},
   "outputs": [],
   "source": [
    "y_crocks = np.zeros(len(crocks))\n",
    "y_clocks = np.ones(len(clocks))\n",
    "\n",
    "Y = np.hstack([y_crocks, y_clocks])"
   ]
  },
  {
   "cell_type": "code",
   "execution_count": 13,
   "metadata": {},
   "outputs": [],
   "source": [
    "X_train, X_test, y_train, y_test = train_test_split(X, Y, test_size = 0.15, random_state = 10)"
   ]
  },
  {
   "cell_type": "markdown",
   "metadata": {},
   "source": [
    "Lets use sth easy for start. For example logistic regresssion. From that point of view every pixel of image is a feature. So we need to flatten them."
   ]
  },
  {
   "cell_type": "code",
   "execution_count": 14,
   "metadata": {},
   "outputs": [],
   "source": [
    "X_train_flat = np.array(list(map(lambda x: x.flatten(), X_train)))\n",
    "X_test_flat = np.array(list(map(lambda x: x.flatten(), X_test)))"
   ]
  },
  {
   "cell_type": "markdown",
   "metadata": {},
   "source": [
    "As logreg has several params such as penalty and C, lets use Greed Search to obtain best result"
   ]
  },
  {
   "cell_type": "code",
   "execution_count": 15,
   "metadata": {},
   "outputs": [],
   "source": [
    "params = {\"C\": [1e-2, 1e-1, 1, 10], \"penalty\": [\"l1\", \"l2\"]}\n",
    "model = LogisticRegression()\n",
    "clf = GridSearchCV(model, params, scoring = \"accuracy\", cv = 10)"
   ]
  },
  {
   "cell_type": "code",
   "execution_count": 16,
   "metadata": {},
   "outputs": [
    {
     "data": {
      "text/plain": [
       "GridSearchCV(cv=10, error_score='raise',\n",
       "       estimator=LogisticRegression(C=1.0, class_weight=None, dual=False, fit_intercept=True,\n",
       "          intercept_scaling=1, max_iter=100, multi_class='ovr', n_jobs=1,\n",
       "          penalty='l2', random_state=None, solver='liblinear', tol=0.0001,\n",
       "          verbose=0, warm_start=False),\n",
       "       fit_params=None, iid=True, n_jobs=1,\n",
       "       param_grid={'penalty': ['l1', 'l2'], 'C': [0.01, 0.1, 1, 10]},\n",
       "       pre_dispatch='2*n_jobs', refit=True, return_train_score='warn',\n",
       "       scoring='accuracy', verbose=0)"
      ]
     },
     "execution_count": 16,
     "metadata": {},
     "output_type": "execute_result"
    }
   ],
   "source": [
    "clf.fit(X_train_flat, y_train)"
   ]
  },
  {
   "cell_type": "code",
   "execution_count": 17,
   "metadata": {},
   "outputs": [
    {
     "name": "stdout",
     "output_type": "stream",
     "text": [
      "0.66\n"
     ]
    }
   ],
   "source": [
    "print(accuracy_score(clf.predict(X_test_flat), y_test))"
   ]
  },
  {
   "cell_type": "markdown",
   "metadata": {},
   "source": [
    "Result is really poor as we expected. Lets use some ddep learning.\n",
    "Here I will use several blocks that were used in deep learning course. "
   ]
  },
  {
   "cell_type": "code",
   "execution_count": 18,
   "metadata": {},
   "outputs": [],
   "source": [
    "class Flatten(nn.Module):\n",
    "    def forward(self, input):\n",
    "        return input.view(input.size(0), -1)"
   ]
  },
  {
   "cell_type": "code",
   "execution_count": 19,
   "metadata": {},
   "outputs": [],
   "source": [
    "def build_model():\n",
    "    model = nn.Sequential()\n",
    "    \n",
    "    model.add_module('conv1', nn.Conv2d(in_channels = 3, out_channels = 16, kernel_size = 3))\n",
    "    model.add_module('mp1', nn.MaxPool2d(kernel_size = 2))\n",
    "    model.add_module('relu1', nn.ReLU(inplace = True))\n",
    "    model.add_module('drop1', nn.Dropout2d(p=0.1))\n",
    "\n",
    "    model.add_module('conv2', nn.Conv2d(in_channels = 16, out_channels = 32, kernel_size = 4))\n",
    "    model.add_module('mp2', nn.MaxPool2d(kernel_size = 2))\n",
    "    model.add_module('relu2', nn.ReLU(inplace = True))\n",
    "\n",
    "    model.add_module('conv3', nn.Conv2d(in_channels = 32, out_channels = 64, kernel_size = 3))\n",
    "    model.add_module('relu3', nn.ReLU(inplace = True))\n",
    "\n",
    "    model.add_module('flat', Flatten())\n",
    "\n",
    "    model.add_module('dense1', nn.Linear(in_features = 1024, out_features = 512))\n",
    "    model.add_module('bn1', nn.BatchNorm1d(num_features = 512))\n",
    "    model.add_module('relu4', nn.ReLU(inplace = True))\n",
    "\n",
    "    model.add_module('dense2', nn.Linear(in_features = 512, out_features = 256))\n",
    "    model.add_module('bn2', nn.BatchNorm1d(num_features = 256))\n",
    "    model.add_module('relu5', nn.ReLU(inplace = True))\n",
    "\n",
    "    model.add_module('dense3', nn.Linear(in_features = 256, out_features = 2))\n",
    "    model.add_module('sm', nn.Softmax())\n",
    "\n",
    "    return model"
   ]
  },
  {
   "cell_type": "code",
   "execution_count": 20,
   "metadata": {},
   "outputs": [],
   "source": [
    "def iterate_minibatches(X, y, batchsize):\n",
    "    indices = np.random.permutation(np.arange(len(X)))\n",
    "    for start in range(0, len(indices), batchsize):\n",
    "        ix = indices[start: start + batchsize]\n",
    "        yield X[ix], y[ix]"
   ]
  },
  {
   "cell_type": "code",
   "execution_count": 21,
   "metadata": {},
   "outputs": [],
   "source": [
    "def compute_loss(X_batch, y_batch):\n",
    "    X_batch = Variable(torch.cuda.FloatTensor(X_batch))\n",
    "    y_batch = Variable(torch.cuda.LongTensor(y_batch))\n",
    "    logits = model(X_batch)\n",
    "    return F.cross_entropy(logits, y_batch).mean()"
   ]
  },
  {
   "cell_type": "code",
   "execution_count": 22,
   "metadata": {},
   "outputs": [],
   "source": [
    "batch_size = 50\n",
    "n_epoch = 15"
   ]
  },
  {
   "cell_type": "code",
   "execution_count": 23,
   "metadata": {},
   "outputs": [],
   "source": [
    "model = build_model()\n",
    "opt = torch.optim.Adam(model.parameters(), lr = 1e-3)"
   ]
  },
  {
   "cell_type": "code",
   "execution_count": 24,
   "metadata": {},
   "outputs": [
    {
     "name": "stdout",
     "output_type": "stream",
     "text": [
      "epoch #1\n"
     ]
    },
    {
     "name": "stderr",
     "output_type": "stream",
     "text": [
      "/usr/local/lib/python2.7/dist-packages/torch/nn/modules/container.py:67: UserWarning: Implicit dimension choice for softmax has been deprecated. Change the call to include dim=X as an argument.\n",
      "  input = module(input)\n"
     ]
    },
    {
     "name": "stdout",
     "output_type": "stream",
     "text": [
      "loss = 0.58\n",
      "train accuracy = 0.62\n",
      "test accuracy = 0.70\n",
      "epoch #2\n",
      "loss = 0.51\n",
      "train accuracy = 0.88\n",
      "test accuracy = 0.82\n",
      "epoch #3\n",
      "loss = 0.46\n",
      "train accuracy = 0.88\n",
      "test accuracy = 0.90\n",
      "epoch #4\n",
      "loss = 0.45\n",
      "train accuracy = 0.76\n",
      "test accuracy = 0.70\n",
      "epoch #5\n",
      "loss = 0.45\n",
      "train accuracy = 0.78\n",
      "test accuracy = 0.82\n",
      "epoch #6\n",
      "loss = 0.44\n",
      "train accuracy = 0.86\n",
      "test accuracy = 0.90\n",
      "epoch #7\n",
      "loss = 0.45\n",
      "train accuracy = 0.80\n",
      "test accuracy = 0.76\n",
      "epoch #8\n",
      "loss = 0.39\n",
      "train accuracy = 0.88\n",
      "test accuracy = 0.84\n",
      "epoch #9\n",
      "loss = 0.57\n",
      "train accuracy = 0.94\n",
      "test accuracy = 0.86\n",
      "epoch #10\n",
      "loss = 0.45\n",
      "train accuracy = 0.82\n",
      "test accuracy = 0.84\n",
      "epoch #11\n",
      "loss = 0.43\n",
      "train accuracy = 0.80\n",
      "test accuracy = 0.78\n",
      "epoch #12\n",
      "loss = 0.46\n",
      "train accuracy = 0.96\n",
      "test accuracy = 0.90\n",
      "epoch #13\n",
      "loss = 0.40\n",
      "train accuracy = 0.92\n",
      "test accuracy = 0.86\n",
      "epoch #14\n",
      "loss = 0.42\n",
      "train accuracy = 0.92\n",
      "test accuracy = 0.86\n",
      "epoch #15\n",
      "loss = 0.40\n",
      "train accuracy = 0.98\n",
      "test accuracy = 0.82\n"
     ]
    }
   ],
   "source": [
    "model.cuda()\n",
    "\n",
    "loss_array = []\n",
    "train_accuracy = []\n",
    "test_accuracy = []\n",
    "\n",
    "for i in range(n_epoch):\n",
    "    print(\"epoch #%i\" % (i + 1))\n",
    "    model.train(True)\n",
    "    \n",
    "    for X_batch, y_batch in iterate_minibatches(X_train, y_train, batch_size):\n",
    "        loss = compute_loss(X_batch, y_batch)\n",
    "        loss.backward()\n",
    "        opt.step()\n",
    "        opt.zero_grad()\n",
    "        loss_array.append(loss.cpu().data.numpy()[0])\n",
    "        \n",
    "    print(\"loss = %.2f\" % loss)\n",
    "        \n",
    "    model.train(False)\n",
    "    \n",
    "    for X_batch, y_batch in iterate_minibatches(X_train, y_train, batch_size):\n",
    "        logits = model(Variable(torch.cuda.FloatTensor(X_batch)))\n",
    "        y_pred = logits.max(1)[1].cpu().data.numpy()\n",
    "        train_accuracy.append(np.mean(y_batch == y_pred))\n",
    "        \n",
    "    print(\"train accuracy = %.2f\" % train_accuracy[-1])\n",
    "    \n",
    "    for X_batch, y_batch in iterate_minibatches(X_test, y_test, batch_size):\n",
    "        logits = model(Variable(torch.cuda.FloatTensor(X_batch)))\n",
    "        y_pred = logits.max(1)[1].cpu().data.numpy()\n",
    "        test_accuracy.append(np.mean(y_batch == y_pred))\n",
    "        \n",
    "    print(\"test accuracy = %.2f\" % test_accuracy[-1])"
   ]
  },
  {
   "cell_type": "markdown",
   "metadata": {},
   "source": [
    "Score is much better than in logreg case!\n",
    "Results seem rather stochastic. Lets plot them"
   ]
  },
  {
   "cell_type": "code",
   "execution_count": 25,
   "metadata": {},
   "outputs": [
    {
     "data": {
      "image/png": "[encoded data removed]",
      "text/plain": [
       "<matplotlib.figure.Figure at 0x7f05ff085650>"
      ]
     },
     "metadata": {},
     "output_type": "display_data"
    }
   ],
   "source": [
    "plt.plot(loss_array)\n",
    "plt.show()"
   ]
  },
  {
   "cell_type": "code",
   "execution_count": 26,
   "metadata": {},
   "outputs": [
    {
     "data": {
      "image/png": "[encoded data removed]",
      "text/plain": [
       "<matplotlib.figure.Figure at 0x7f05ff166350>"
      ]
     },
     "metadata": {},
     "output_type": "display_data"
    }
   ],
   "source": [
    "plt.plot(test_accuracy)\n",
    "plt.show()"
   ]
  },
  {
   "cell_type": "markdown",
   "metadata": {},
   "source": [
    "Our net needs more regularization. So more dropouts and batch normalizations are needed"
   ]
  },
  {
   "cell_type": "code",
   "execution_count": 27,
   "metadata": {},
   "outputs": [],
   "source": [
    "def build_model():\n",
    "    model = nn.Sequential()\n",
    "    \n",
    "    model.add_module('conv1', nn.Conv2d(in_channels = 3, out_channels = 16, kernel_size = 3))\n",
    "    model.add_module('bn1', nn.BatchNorm2d(16))\n",
    "    model.add_module('relu1', nn.ReLU(inplace = True))\n",
    "    model.add_module('drop1', nn.Dropout2d(p=0.1))\n",
    "\n",
    "    model.add_module('conv2', nn.Conv2d(in_channels = 16, out_channels = 32, kernel_size = 3))\n",
    "    model.add_module('bn2', nn.BatchNorm2d(32))\n",
    "    model.add_module('mp2', nn.MaxPool2d(kernel_size = 2))\n",
    "    model.add_module('relu2', nn.ReLU(inplace = True))\n",
    "    model.add_module('drop2', nn.Dropout2d(p=0.1))\n",
    "\n",
    "    model.add_module('conv3', nn.Conv2d(in_channels = 32, out_channels = 64, kernel_size = 3))\n",
    "    model.add_module('bn3', nn.BatchNorm2d(64))\n",
    "    model.add_module('relu3', nn.ReLU(inplace = True))\n",
    "    \n",
    "    model.add_module('conv4', nn.Conv2d(in_channels = 64, out_channels = 256, kernel_size = 3))\n",
    "    model.add_module('bn4', nn.BatchNorm2d(256))\n",
    "    model.add_module('mp4', nn.MaxPool2d(kernel_size = 2))\n",
    "    model.add_module('relu4', nn.ReLU())\n",
    "\n",
    "    model.add_module('flat', Flatten())\n",
    "\n",
    "    model.add_module('dense1', nn.Linear(in_features = 6400, out_features = 512))\n",
    "    model.add_module('bn5', nn.BatchNorm1d(num_features = 512))\n",
    "    model.add_module('relu5', nn.ReLU(inplace = True))\n",
    "\n",
    "    model.add_module('dense2', nn.Linear(in_features = 512, out_features = 128))\n",
    "    model.add_module('bn6', nn.BatchNorm1d(num_features = 128))\n",
    "    model.add_module('relu6', nn.ReLU(inplace = True))\n",
    "\n",
    "    model.add_module('dense3', nn.Linear(in_features = 128, out_features = 2))\n",
    "    model.add_module('sm', nn.Softmax())\n",
    "\n",
    "    return model"
   ]
  },
  {
   "cell_type": "code",
   "execution_count": 28,
   "metadata": {},
   "outputs": [],
   "source": [
    "batch_size = 15\n",
    "n_epoch = 40\n",
    "\n",
    "model = build_model()\n",
    "opt = torch.optim.Adam(model.parameters(), lr = 1e-3)"
   ]
  },
  {
   "cell_type": "code",
   "execution_count": 29,
   "metadata": {},
   "outputs": [
    {
     "name": "stdout",
     "output_type": "stream",
     "text": [
      "epoch #1\n",
      "loss = 0.45\n",
      "train accuracy = 0.70\n",
      "test accuracy = 0.73\n",
      "epoch #2\n",
      "loss = 0.57\n",
      "train accuracy = 0.60\n",
      "test accuracy = 0.73\n",
      "epoch #3\n",
      "loss = 0.48\n",
      "train accuracy = 0.90\n",
      "test accuracy = 0.73\n",
      "epoch #4\n",
      "loss = 0.33\n",
      "train accuracy = 0.80\n",
      "test accuracy = 0.60\n",
      "epoch #5\n",
      "loss = 0.53\n",
      "train accuracy = 0.70\n",
      "test accuracy = 0.67\n",
      "epoch #6\n",
      "loss = 0.75\n",
      "train accuracy = 0.60\n",
      "test accuracy = 0.73\n",
      "epoch #7\n",
      "loss = 0.56\n",
      "train accuracy = 1.00\n",
      "test accuracy = 0.87\n",
      "epoch #8\n",
      "loss = 0.50\n",
      "train accuracy = 0.70\n",
      "test accuracy = 0.87\n",
      "epoch #9\n",
      "loss = 0.60\n",
      "train accuracy = 0.80\n",
      "test accuracy = 0.53\n",
      "epoch #10\n",
      "loss = 0.61\n",
      "train accuracy = 1.00\n",
      "test accuracy = 0.80\n",
      "epoch #11\n",
      "loss = 0.64\n",
      "train accuracy = 0.90\n",
      "test accuracy = 0.87\n",
      "epoch #12\n",
      "loss = 0.43\n",
      "train accuracy = 0.90\n",
      "test accuracy = 0.80\n",
      "epoch #13\n",
      "loss = 0.46\n",
      "train accuracy = 0.90\n",
      "test accuracy = 0.87\n",
      "epoch #14\n",
      "loss = 0.39\n",
      "train accuracy = 0.80\n",
      "test accuracy = 0.80\n",
      "epoch #15\n",
      "loss = 0.57\n",
      "train accuracy = 0.90\n",
      "test accuracy = 0.80\n",
      "epoch #16\n",
      "loss = 0.35\n",
      "train accuracy = 0.80\n",
      "test accuracy = 0.80\n",
      "epoch #17\n",
      "loss = 0.59\n",
      "train accuracy = 0.90\n",
      "test accuracy = 0.87\n",
      "epoch #18\n",
      "loss = 0.49\n",
      "train accuracy = 0.90\n",
      "test accuracy = 0.80\n",
      "epoch #19\n",
      "loss = 0.36\n",
      "train accuracy = 0.80\n",
      "test accuracy = 0.93\n",
      "epoch #20\n",
      "loss = 0.41\n",
      "train accuracy = 0.80\n",
      "test accuracy = 0.60\n",
      "epoch #21\n",
      "loss = 0.47\n",
      "train accuracy = 1.00\n",
      "test accuracy = 0.87\n",
      "epoch #22\n",
      "loss = 0.52\n",
      "train accuracy = 1.00\n",
      "test accuracy = 0.73\n",
      "epoch #23\n",
      "loss = 0.37\n",
      "train accuracy = 0.90\n",
      "test accuracy = 0.93\n",
      "epoch #24\n",
      "loss = 0.32\n",
      "train accuracy = 0.90\n",
      "test accuracy = 1.00\n",
      "epoch #25\n",
      "loss = 0.51\n",
      "train accuracy = 0.90\n",
      "test accuracy = 0.80\n",
      "epoch #26\n",
      "loss = 0.49\n",
      "train accuracy = 1.00\n",
      "test accuracy = 0.80\n",
      "epoch #27\n",
      "loss = 0.54\n",
      "train accuracy = 1.00\n",
      "test accuracy = 0.80\n",
      "epoch #28\n",
      "loss = 0.42\n",
      "train accuracy = 0.80\n",
      "test accuracy = 0.60\n",
      "epoch #29\n",
      "loss = 0.51\n",
      "train accuracy = 1.00\n",
      "test accuracy = 0.73\n",
      "epoch #30\n",
      "loss = 0.50\n",
      "train accuracy = 1.00\n",
      "test accuracy = 0.73\n",
      "epoch #31\n",
      "loss = 0.41\n",
      "train accuracy = 0.90\n",
      "test accuracy = 0.87\n",
      "epoch #32\n",
      "loss = 0.61\n",
      "train accuracy = 0.90\n",
      "test accuracy = 0.73\n",
      "epoch #33\n",
      "loss = 0.42\n",
      "train accuracy = 0.90\n",
      "test accuracy = 0.87\n",
      "epoch #34\n",
      "loss = 0.47\n",
      "train accuracy = 0.90\n",
      "test accuracy = 0.73\n",
      "epoch #35\n",
      "loss = 0.31\n",
      "train accuracy = 1.00\n",
      "test accuracy = 0.87\n",
      "epoch #36\n",
      "loss = 0.33\n",
      "train accuracy = 1.00\n",
      "test accuracy = 0.93\n",
      "epoch #37\n",
      "loss = 0.41\n",
      "train accuracy = 1.00\n",
      "test accuracy = 0.87\n",
      "epoch #38\n",
      "loss = 0.37\n",
      "train accuracy = 0.90\n",
      "test accuracy = 0.80\n",
      "epoch #39\n",
      "loss = 0.41\n",
      "train accuracy = 1.00\n",
      "test accuracy = 1.00\n",
      "epoch #40\n",
      "loss = 0.32\n",
      "train accuracy = 0.90\n",
      "test accuracy = 0.93\n"
     ]
    }
   ],
   "source": [
    "model.cuda()\n",
    "\n",
    "loss_array = []\n",
    "train_accuracy = []\n",
    "test_accuracy = []\n",
    "\n",
    "for i in range(n_epoch):\n",
    "    print(\"epoch #%i\" % (i + 1))\n",
    "    model.train(True)\n",
    "    \n",
    "    for X_batch, y_batch in iterate_minibatches(X_train, y_train, batch_size):\n",
    "        loss = compute_loss(X_batch, y_batch)\n",
    "        loss.backward()\n",
    "        opt.step()\n",
    "        opt.zero_grad()\n",
    "        loss_array.append(loss.cpu().data.numpy()[0])\n",
    "        \n",
    "    print(\"loss = %.2f\" % loss)\n",
    "        \n",
    "    model.train(False)\n",
    "    \n",
    "    for X_batch, y_batch in iterate_minibatches(X_train, y_train, batch_size):\n",
    "        logits = model(Variable(torch.cuda.FloatTensor(X_batch)))\n",
    "        y_pred = logits.max(1)[1].cpu().data.numpy()\n",
    "        train_accuracy.append(np.mean(y_batch == y_pred))\n",
    "        \n",
    "    print(\"train accuracy = %.2f\" % train_accuracy[-1])\n",
    "    \n",
    "    for X_batch, y_batch in iterate_minibatches(X_test, y_test, batch_size):\n",
    "        logits = model(Variable(torch.cuda.FloatTensor(X_batch)))\n",
    "        y_pred = logits.max(1)[1].cpu().data.numpy()\n",
    "        test_accuracy.append(np.mean(y_batch == y_pred))\n",
    "        \n",
    "    print(\"test accuracy = %.2f\" % test_accuracy[-1])"
   ]
  },
  {
   "cell_type": "code",
   "execution_count": 30,
   "metadata": {},
   "outputs": [
    {
     "data": {
      "image/png": "[encoded data removed]",
      "text/plain": [
       "<matplotlib.figure.Figure at 0x7f05ff05f290>"
      ]
     },
     "metadata": {},
     "output_type": "display_data"
    }
   ],
   "source": [
    "plt.plot(loss_array)\n",
    "plt.show()"
   ]
  },
  {
   "cell_type": "code",
   "execution_count": 31,
   "metadata": {},
   "outputs": [
    {
     "data": {
      "image/png": "[encoded data removed]",
      "text/plain": [
       "<matplotlib.figure.Figure at 0x7f05fee4ef50>"
      ]
     },
     "metadata": {},
     "output_type": "display_data"
    }
   ],
   "source": [
    "plt.plot(test_accuracy)\n",
    "plt.show()"
   ]
  },
  {
   "cell_type": "code",
   "execution_count": 32,
   "metadata": {},
   "outputs": [
    {
     "data": {
      "text/plain": [
       "0.93333333333333335"
      ]
     },
     "execution_count": 32,
     "metadata": {},
     "output_type": "execute_result"
    }
   ],
   "source": [
    "test_accuracy[-1]"
   ]
  },
  {
   "cell_type": "markdown",
   "metadata": {},
   "source": [
    "This score is impressive enough."
   ]
  },
  {
   "cell_type": "markdown",
   "metadata": {},
   "source": [
    "Now lets take a look at pics that are similar to both crocks and clocks. At this pictures our classifier is least confident. \n",
    "\n",
    "At y_pred we can see probabilities for both classes that predict classifier. \n",
    "\n",
    "At difficult pictures it should be close to $0.5$ - from $0.45$ to $0.55$ for example"
   ]
  },
  {
   "cell_type": "code",
   "execution_count": 33,
   "metadata": {},
   "outputs": [],
   "source": [
    "suspects = []\n",
    "class_pred = []\n",
    "\n",
    "for X_batch, y_batch in iterate_minibatches(X_train, y_train, batch_size):\n",
    "    logits = model(Variable(torch.cuda.FloatTensor(X_batch)))\n",
    "    y_pred = logits.max(1)[0].cpu().data.numpy()\n",
    "    indexes = np.array(np.where(np.abs(y_pred - 0.5) <= 0.05))[0]\n",
    "    \n",
    "    if len(indexes) > 0:\n",
    "        for i in range(len(indexes)):\n",
    "            class_pred.append(logits.max(1)[1].cpu().data.numpy()[indexes[i]])\n",
    "            suspects.append(X_batch[indexes[i]])"
   ]
  },
  {
   "cell_type": "code",
   "execution_count": 34,
   "metadata": {},
   "outputs": [
    {
     "data": {
      "image/png": "[encoded data removed]",
      "text/plain": [
       "<matplotlib.figure.Figure at 0x7f05feff9290>"
      ]
     },
     "metadata": {},
     "output_type": "display_data"
    },
    {
     "name": "stdout",
     "output_type": "stream",
     "text": [
      "Was classified wrongly\n"
     ]
    }
   ],
   "source": [
    "plt.imshow(suspects[0].reshape(32, 32, 3))\n",
    "plt.show()\n",
    "if class_pred[0]:\n",
    "    print(\"Was classified well\")\n",
    "else:\n",
    "    print(\"Was classified wrongly\")"
   ]
  },
  {
   "cell_type": "code",
   "execution_count": 37,
   "metadata": {},
   "outputs": [
    {
     "data": {
      "image/png": "[encoded data removed]",
      "text/plain": [
       "<matplotlib.figure.Figure at 0x7f05fedfc990>"
      ]
     },
     "metadata": {},
     "output_type": "display_data"
    },
    {
     "name": "stdout",
     "output_type": "stream",
     "text": [
      "Was classified wrongly\n"
     ]
    }
   ],
   "source": [
    "plt.imshow(suspects[1].reshape(32, 32, 3))\n",
    "plt.show()\n",
    "if class_pred[1]:\n",
    "    print(\"Was classified well\")\n",
    "else:\n",
    "    print(\"Was classified wrongly\")"
   ]
  },
  {
   "cell_type": "code",
   "execution_count": 36,
   "metadata": {},
   "outputs": [
    {
     "data": {
      "image/png": "[encoded data removed]",
      "text/plain": [
       "<matplotlib.figure.Figure at 0x7f05fef412d0>"
      ]
     },
     "metadata": {},
     "output_type": "display_data"
    },
    {
     "name": "stdout",
     "output_type": "stream",
     "text": [
      "Was classified wrongly\n"
     ]
    }
   ],
   "source": [
    "plt.imshow(suspects[2].reshape(32, 32, 3))\n",
    "plt.show()\n",
    "if class_pred[2]:\n",
    "    print(\"Was classified well\")\n",
    "else:\n",
    "    print(\"Was classified wrongly\")"
   ]
  },
  {
   "cell_type": "code",
   "execution_count": 42,
   "metadata": {},
   "outputs": [
    {
     "data": {
      "image/png": "[encoded data removed]",
      "text/plain": [
       "<matplotlib.figure.Figure at 0x7f05f67f5150>"
      ]
     },
     "metadata": {},
     "output_type": "display_data"
    },
    {
     "name": "stdout",
     "output_type": "stream",
     "text": [
      "Was classified wrongly\n"
     ]
    }
   ],
   "source": [
    "plt.imshow(suspects[3].reshape(32, 32, 3))\n",
    "plt.show()\n",
    "if class_pred[2]:\n",
    "    print(\"Was classified well\")\n",
    "else:\n",
    "    print(\"Was classified wrongly\")"
   ]
  },
  {
   "cell_type": "markdown",
   "metadata": {},
   "source": [
    "As for me they all obvious to classify - no similarity is seen. But I am not machine."
   ]
  }
 ],
 "metadata": {
  "kernelspec": {
   "display_name": "Python 2",
   "language": "python",
   "name": "python2"
  },
  "language_info": {
   "codemirror_mode": {
    "name": "ipython",
    "version": 2
   },
   "file_extension": ".py",
   "mimetype": "text/x-python",
   "name": "python",
   "nbconvert_exporter": "python",
   "pygments_lexer": "ipython2",
   "version": "2.7.12"
  }
 },
 "nbformat": 4,
 "nbformat_minor": 2
}
